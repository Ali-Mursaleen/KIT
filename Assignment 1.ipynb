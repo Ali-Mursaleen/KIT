{
 "cells": [
  {
   "cell_type": "code",
   "execution_count": 24,
   "id": "937d791c-2d48-42f3-8742-e2aa559b4747",
   "metadata": {},
   "outputs": [
    {
     "name": "stdin",
     "output_type": "stream",
     "text": [
      "Enter the characters to reverse: Ali\n"
     ]
    },
    {
     "name": "stdout",
     "output_type": "stream",
     "text": [
      "ilA\n"
     ]
    }
   ],
   "source": [
    "#Write a Python program that accepts a word from the user and reverses it.\n",
    "x=input(\"Enter the characters to reverse:\")\n",
    "y=len(x)\n",
    "rs=\"\"\n",
    "while y>0:\n",
    "    y=y-1\n",
    "    rs+=x[y]\n",
    "print (rs)"
   ]
  },
  {
   "cell_type": "code",
   "execution_count": 9,
   "id": "6debc06e-6cb1-43f5-90c3-67505698a76f",
   "metadata": {},
   "outputs": [
    {
     "name": "stdin",
     "output_type": "stream",
     "text": [
      "Enter Number: 10 20 20 5 5 5 4 4 \n"
     ]
    },
    {
     "data": {
      "text/plain": [
       "['10', '20', '5', '4']"
      ]
     },
     "execution_count": 9,
     "metadata": {},
     "output_type": "execute_result"
    }
   ],
   "source": [
    "#Write a Python function that takes a list and returns a new list with distinct elements from the first list.\n",
    "def de():\n",
    "    x=input(\"Enter Number:\").split()\n",
    "    z=[]\n",
    "    for i in x:\n",
    "        j = False\n",
    "        for k in z:\n",
    "            if k == i:\n",
    "                j = True\n",
    "                break\n",
    "        if not j:\n",
    "            z = z + [i]\n",
    "    return z\n",
    "de()    "
   ]
  },
  {
   "cell_type": "code",
   "execution_count": 31,
   "id": "6e5eb9e2-fbf0-4b79-90e5-c04803bf2058",
   "metadata": {},
   "outputs": [
    {
     "name": "stdin",
     "output_type": "stream",
     "text": [
      "Enter 1st numbers: 10\n",
      "Enter 2nd numbers: 5\n",
      "Enter 3rd numbers: 20\n"
     ]
    },
    {
     "name": "stdout",
     "output_type": "stream",
     "text": [
      "Maximum number is  20\n"
     ]
    }
   ],
   "source": [
    "#Write a Python function to find the maximum of three numbers.\n",
    "def Max():\n",
    "    x=int(input(\"Enter 1st numbers:\"))\n",
    "    y=int(input(\"Enter 2nd numbers:\"))\n",
    "    z=int(input(\"Enter 3rd numbers:\"))\n",
    "    if x>y and x>z:\n",
    "        print(\"Maximum number is \",x)\n",
    "    elif y>x and y>z:\n",
    "        print(\"Maximum number is \",y)\n",
    "    elif z>x and z>y:\n",
    "        print(\"Maximum number is \",z)   \n",
    "Max()"
   ]
  },
  {
   "cell_type": "code",
   "execution_count": 39,
   "id": "22c13e43-47fe-4dd5-a719-afc2590a9177",
   "metadata": {},
   "outputs": [
    {
     "name": "stdin",
     "output_type": "stream",
     "text": [
      "Enter the numbers to add: 10 5 8\n"
     ]
    },
    {
     "name": "stdout",
     "output_type": "stream",
     "text": [
      "23\n"
     ]
    }
   ],
   "source": [
    "#Write a Python function to sum all the numbers in a list.\n",
    "def sum():\n",
    "    x=input(\"Enter the numbers to add:\").split()\n",
    "    y=len(x)\n",
    "    z=0\n",
    "    while y>0:\n",
    "        y=y-1\n",
    "        z=z+int(x[y])\n",
    "    print (z)\n",
    "sum()"
   ]
  },
  {
   "cell_type": "code",
   "execution_count": null,
   "id": "eb0a3e29-e804-4241-9cba-485f8934b8d9",
   "metadata": {},
   "outputs": [],
   "source": []
  }
 ],
 "metadata": {
  "kernelspec": {
   "display_name": "Python 3 (ipykernel)",
   "language": "python",
   "name": "python3"
  },
  "language_info": {
   "codemirror_mode": {
    "name": "ipython",
    "version": 3
   },
   "file_extension": ".py",
   "mimetype": "text/x-python",
   "name": "python",
   "nbconvert_exporter": "python",
   "pygments_lexer": "ipython3",
   "version": "3.11.2"
  }
 },
 "nbformat": 4,
 "nbformat_minor": 5
}
