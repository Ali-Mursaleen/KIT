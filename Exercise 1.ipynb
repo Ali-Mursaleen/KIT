{
 "cells": [
  {
   "cell_type": "code",
   "execution_count": 1,
   "id": "a6eaabf6-be83-4277-ba4a-a8aa42c9a115",
   "metadata": {},
   "outputs": [
    {
     "name": "stdin",
     "output_type": "stream",
     "text": [
      "Enter the radius of circle: 2\n"
     ]
    },
    {
     "name": "stdout",
     "output_type": "stream",
     "text": [
      "12.568\n"
     ]
    }
   ],
   "source": [
    "#Write a Python program that calculates the area of a circle based on the radius entered by the user.\n",
    "pi=3.142\n",
    "r=input(\"Enter the radius of circle:\")\n",
    "r=int(r)\n",
    "circle=pi*r*r\n",
    "print(circle)"
   ]
  },
  {
   "cell_type": "code",
   "execution_count": 3,
   "id": "2e16a90f-ae04-4a96-a146-9af9a990efd7",
   "metadata": {},
   "outputs": [
    {
     "name": "stdin",
     "output_type": "stream",
     "text": [
      "Enter The Number: 10 5\n"
     ]
    },
    {
     "name": "stdout",
     "output_type": "stream",
     "text": [
      "10 is greater than 5\n"
     ]
    }
   ],
   "source": [
    "#Find Maximum of two numbers in Python using function\n",
    "def func():\n",
    "    num1, num2 = map(int, input(\"Enter The Number:\").split())\n",
    "\n",
    "    if num1 > num2:\n",
    "        print(num1, \"is greater than\", num2)\n",
    "    elif num2 > num1:\n",
    "        print(num2, \"is greater than\", num1)\n",
    "    else:\n",
    "        print(\"Both values are equal\")\n",
    "\n",
    "func()\n"
   ]
  },
  {
   "cell_type": "code",
   "execution_count": 4,
   "id": "aaaaae93-2db5-49b1-b663-b4071b77af94",
   "metadata": {},
   "outputs": [
    {
     "name": "stdin",
     "output_type": "stream",
     "text": [
      "Enter No. 24\n"
     ]
    },
    {
     "name": "stdout",
     "output_type": "stream",
     "text": [
      "24 Doesn't exists in index 0\n",
      "24 Doesn't exists in index 1\n",
      "24 Doesn't exists in index 2\n",
      "24 Exists in index 3\n"
     ]
    }
   ],
   "source": [
    "#Find if an element exists in the list using a loop\n",
    "list1=[\"5\",\"12\",\"15\",\"24\"]\n",
    "y=input(\"Enter No.\")\n",
    "for x in list1:\n",
    "  if(y==x):\n",
    "    print(y,\"Exists in index\",list1.index(x))\n",
    "    break\n",
    "  elif(y!=x):\n",
    "    print(y,\"Doesn't exists in index\",list1.index(x))"
   ]
  },
  {
   "cell_type": "code",
   "execution_count": null,
   "id": "fd1ffd1a-6238-4d1b-82b5-11ea44af94d1",
   "metadata": {},
   "outputs": [],
   "source": []
  }
 ],
 "metadata": {
  "kernelspec": {
   "display_name": "Python 3 (ipykernel)",
   "language": "python",
   "name": "python3"
  },
  "language_info": {
   "codemirror_mode": {
    "name": "ipython",
    "version": 3
   },
   "file_extension": ".py",
   "mimetype": "text/x-python",
   "name": "python",
   "nbconvert_exporter": "python",
   "pygments_lexer": "ipython3",
   "version": "3.11.2"
  }
 },
 "nbformat": 4,
 "nbformat_minor": 5
}
